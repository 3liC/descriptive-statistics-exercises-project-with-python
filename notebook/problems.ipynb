{
    "cells": [
        {
            "cell_type": "markdown",
            "id": "ac622319",
            "metadata": {},
            "source": [
                "# Descriptive statistics problems"
            ]
        },
        {
            "cell_type": "markdown",
            "id": "aa8993e4",
            "metadata": {},
            "source": [
                "### Exercise 1"
            ]
        },
        {
            "cell_type": "markdown",
            "id": "5e0ab0d5",
            "metadata": {},
            "source": [
                "We will use Numpy to obtain information to describe statistically.\n",
                "\n",
                "- Generate an array of 100 elements following a normal distribution.\n",
                "- Generate an array of 100 elements following a chi-square distribution with 3 degrees of freedom.\n",
                "- Calculate the main metrics and statistical measures that best describe the two vectors."
            ]
        },
        {
            "cell_type": "code",
            "execution_count": 7,
            "id": "34720ab6",
            "metadata": {},
            "outputs": [
                {
                    "name": "stdout",
                    "output_type": "stream",
                    "text": [
                        "Statistics for Normal Distribution:\n",
                        "Mean: -0.10384651739409384\n",
                        "Standard Deviation: 0.9036161766446296\n",
                        "Median: -0.1269562917797126\n",
                        "Min: -2.6197451040897444\n",
                        "Max: 1.8522781845089378\n",
                        "\n",
                        "Statistics for Chi-Square Distribution:\n",
                        "Mean: 2.9380795335328225\n",
                        "Standard Deviation: 2.4118463757907924\n",
                        "Median: 2.4636148965577283\n",
                        "Min: 0.1324733758268489\n",
                        "Max: 12.724562650789606\n"
                    ]
                }
            ],
            "source": [
                "import numpy as np\n",
                "\n",
                "np.random.seed(42)\n",
                "\n",
                "normal = np.random.normal(size=100)\n",
                "chi = np.random.chisquare(3, 100)\n",
                "\n",
                "# Calculate statistical measures for the normal distribution\n",
                "normal_mean = np.mean(normal)\n",
                "normal_std_dev = np.std(normal)\n",
                "normal_median = np.median(normal)\n",
                "normal_min = np.min(normal)\n",
                "normal_max = np.max(normal)\n",
                "\n",
                "# Calculate statistical measures for the chi-square distribution\n",
                "chi_mean = np.mean(chi)\n",
                "chi_std_dev = np.std(chi)\n",
                "chi_median = np.median(chi)\n",
                "chi_min = np.min(chi)\n",
                "chi_max = np.max(chi)\n",
                "\n",
                "# Print the results\n",
                "print(\"Statistics for Normal Distribution:\")\n",
                "print(f\"Mean: {normal_mean}\")\n",
                "print(f\"Standard Deviation: {normal_std_dev}\")\n",
                "print(f\"Median: {normal_median}\")\n",
                "print(f\"Min: {normal_min}\")\n",
                "print(f\"Max: {normal_max}\\n\")\n",
                "\n",
                "print(\"Statistics for Chi-Square Distribution:\")\n",
                "print(f\"Mean: {chi_mean}\")\n",
                "print(f\"Standard Deviation: {chi_std_dev}\")\n",
                "print(f\"Median: {chi_median}\")\n",
                "print(f\"Min: {chi_min}\")\n",
                "print(f\"Max: {chi_max}\")\n",
                "\n",
                "\n",
                "\n"
            ]
        },
        {
            "cell_type": "markdown",
            "id": "46c70c3d",
            "metadata": {},
            "source": [
                "### Exercise 2\n",
                "\n",
                "Write a Python program to calculate the standard deviation of the following data:\n",
                "\n",
                "```py\n",
                "data = [4, 2, 5, 8, 6]\n",
                "```"
            ]
        },
        {
            "cell_type": "code",
            "execution_count": 8,
            "id": "d590308e",
            "metadata": {},
            "outputs": [
                {
                    "name": "stdout",
                    "output_type": "stream",
                    "text": [
                        "The standard deviation of the data is: 2.23606797749979\n"
                    ]
                }
            ],
            "source": [
                "import statistics\n",
                "\n",
                "data = [4, 2, 5, 8, 6]\n",
                "\n",
                "# Calculate the standard deviation\n",
                "std_dev = statistics.stdev(data)\n",
                "\n",
                "# Print the result\n",
                "print(f\"The standard deviation of the data is: {std_dev}\")\n"
            ]
        }
    ],
    "metadata": {
        "interpreter": {
            "hash": "9248718ffe6ce6938b217e69dbcc175ea21f4c6b28a317e96c05334edae734bb"
        },
        "kernelspec": {
            "display_name": "Python 3.9.12 ('ML-BOOTCAMP')",
            "language": "python",
            "name": "python3"
        },
        "language_info": {
            "codemirror_mode": {
                "name": "ipython",
                "version": 3
            },
            "file_extension": ".py",
            "mimetype": "text/x-python",
            "name": "python",
            "nbconvert_exporter": "python",
            "pygments_lexer": "ipython3",
            "version": "3.11.4"
        }
    },
    "nbformat": 4,
    "nbformat_minor": 5
}
